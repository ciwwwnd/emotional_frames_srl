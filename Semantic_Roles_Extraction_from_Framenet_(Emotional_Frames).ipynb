{
  "cells": [
    {
      "cell_type": "code",
      "execution_count": null,
      "id": "c8fa95ce",
      "metadata": {
        "colab": {
          "base_uri": "https://localhost:8080/"
        },
        "id": "c8fa95ce",
        "outputId": "068d8b30-47ef-4043-b2eb-e1fda051521c"
      },
      "outputs": [
        {
          "output_type": "stream",
          "name": "stderr",
          "text": [
            "[nltk_data] Downloading package framenet_v17 to /root/nltk_data...\n",
            "[nltk_data]   Unzipping corpora/framenet_v17.zip.\n",
            "[nltk_data] Downloading package wordnet to /root/nltk_data...\n",
            "[nltk_data] Downloading package omw-1.4 to /root/nltk_data...\n",
            "[nltk_data] Downloading package averaged_perceptron_tagger to\n",
            "[nltk_data]     /root/nltk_data...\n",
            "[nltk_data]   Unzipping taggers/averaged_perceptron_tagger.zip.\n",
            "[nltk_data] Downloading package punkt to /root/nltk_data...\n",
            "[nltk_data]   Unzipping tokenizers/punkt.zip.\n"
          ]
        }
      ],
      "source": [
        "import nltk\n",
        "nltk.download('framenet_v17')\n",
        "nltk.download('wordnet')\n",
        "nltk.download('omw-1.4')\n",
        "nltk.download('averaged_perceptron_tagger')\n",
        "nltk.download('punkt')\n",
        "\n",
        "from nltk.corpus import framenet as fn\n",
        "from nltk.corpus.reader.framenet import PrettyList\n",
        "from nltk import word_tokenize, sent_tokenize\n",
        "from operator import itemgetter"
      ]
    },
    {
      "cell_type": "markdown",
      "source": [
        "Получаем список фреймов эмоции и лексических единиц, включая глаголы"
      ],
      "metadata": {
        "id": "0e89vBQ5ivvM"
      },
      "id": "0e89vBQ5ivvM"
    },
    {
      "cell_type": "code",
      "execution_count": null,
      "id": "23d8a9a4",
      "metadata": {
        "id": "23d8a9a4"
      },
      "outputs": [],
      "source": [
        "emo_frames = [f.name for f in fn.frames('(?i)emotion')]\n",
        "emo_verbs = [f.lexUnit for f in fn.frames('(?i)emotion')]"
      ]
    },
    {
      "cell_type": "code",
      "source": [
        "emo_verbs"
      ],
      "metadata": {
        "id": "jPv85au94vPk"
      },
      "id": "jPv85au94vPk",
      "execution_count": null,
      "outputs": []
    },
    {
      "cell_type": "code",
      "source": [
        "emo_frames"
      ],
      "metadata": {
        "colab": {
          "base_uri": "https://localhost:8080/"
        },
        "id": "CjW60-JB4tge",
        "outputId": "f91422e5-3430-45b5-d387-ab2bba11e0b7"
      },
      "id": "CjW60-JB4tge",
      "execution_count": null,
      "outputs": [
        {
          "output_type": "execute_result",
          "data": {
            "text/plain": [
              "['Cause_emotion',\n",
              " 'Emotion_active',\n",
              " 'Emotion_directed',\n",
              " 'Emotion_heat',\n",
              " 'Emotions',\n",
              " 'Emotions_by_possibility',\n",
              " 'Emotions_by_stimulus',\n",
              " 'Emotions_of_mental_activity',\n",
              " 'Emotions_success_or_failure']"
            ]
          },
          "metadata": {},
          "execution_count": 3
        }
      ]
    },
    {
      "cell_type": "markdown",
      "source": [
        "Соединяем их в один словарь для удобства"
      ],
      "metadata": {
        "id": "wpd48DKoi11d"
      },
      "id": "wpd48DKoi11d"
    },
    {
      "cell_type": "code",
      "execution_count": null,
      "id": "36e973d1",
      "metadata": {
        "id": "36e973d1"
      },
      "outputs": [],
      "source": [
        "emo_dict = {}\n",
        "for i in range(len(emo_frames)):\n",
        "    emo_dict.update({emo_frames[i]: emo_verbs[i]})"
      ]
    },
    {
      "cell_type": "code",
      "execution_count": null,
      "id": "70eec0cb",
      "metadata": {
        "id": "70eec0cb"
      },
      "outputs": [],
      "source": [
        "sents = []\n",
        "for emotional_frame, verbs in emo_dict.items():\n",
        "    for verb, verb_id in verbs.items(): \n",
        "        for i in range(len(verb_id.exemplars)):\n",
        "            sent = verb_id.exemplars[i]\n",
        "            sents.append(sent)\n",
        "\n",
        "# pd.DataFrame(data)"
      ]
    },
    {
      "cell_type": "code",
      "execution_count": null,
      "id": "a6c62b16",
      "metadata": {
        "id": "a6c62b16"
      },
      "outputs": [],
      "source": [
        "def get_sentence_info(sent):\n",
        "    res_frames = []\n",
        "    pos_dict = dict(nltk.pos_tag(word_tokenize(sent.text)))\n",
        "    s = sent.annotationSet\n",
        "    for n_as in range(len(s)-1):\n",
        "        an_set = s[1+ n_as]\n",
        "        res_frame = {}\n",
        "        for i, item in enumerate(an_set.layer[:2]):\n",
        "            for lab in item.label:\n",
        "                try:\n",
        "                    res_frame['sent_text'] = sent.text\n",
        "                    element = sent.text[lab.start:lab.end+1]\n",
        "                    element_tag =lab.name.lower()\n",
        "                \n",
        "                    if element:\n",
        "                        res_frame[element_tag] = element\n",
        "                except:\n",
        "                    res_frame = {}\n",
        "                    \n",
        "                res_frames.append(res_frame)\n",
        "\n",
        "    res = []\n",
        "    for rf in res_frames:\n",
        "        for k in rf:\n",
        "            if k not in ('sent_text', 'target'):\n",
        "                res_element = {'sent_text': rf['sent_text']}\n",
        "                res_element['argument'] = rf[k]\n",
        "                res_element['label'] = k\n",
        "                res.append(res_element)\n",
        "    \n",
        "    return res"
      ]
    },
    {
      "cell_type": "code",
      "source": [
        "import pandas as pd"
      ],
      "metadata": {
        "id": "91duxxzz5VWt"
      },
      "id": "91duxxzz5VWt",
      "execution_count": null,
      "outputs": []
    },
    {
      "cell_type": "code",
      "execution_count": null,
      "id": "f4833dd9",
      "metadata": {
        "id": "f4833dd9"
      },
      "outputs": [],
      "source": [
        "data = []\n",
        "\n",
        "for sent in sents:\n",
        "    \n",
        "    data.extend(get_sentence_info(sent))\n",
        "\n",
        "df = pd.DataFrame(data)"
      ]
    },
    {
      "cell_type": "markdown",
      "source": [
        "Убираем случайный мусор, который оказался в значениях "
      ],
      "metadata": {
        "id": "SEl8Nda9iqiD"
      },
      "id": "SEl8Nda9iqiD"
    },
    {
      "cell_type": "code",
      "execution_count": null,
      "id": "18382483",
      "metadata": {
        "id": "18382483"
      },
      "outputs": [],
      "source": [
        "df.drop_duplicates(inplace=True)\n",
        "trash = ['dep', 'ext', 'head', 'gen', 'obj']\n",
        "df = df[~df['label'].isin(trash)]"
      ]
    },
    {
      "cell_type": "code",
      "execution_count": null,
      "id": "47731f4b",
      "metadata": {
        "colab": {
          "base_uri": "https://localhost:8080/"
        },
        "id": "47731f4b",
        "outputId": "c11b875c-0d81-470d-bc2c-6354c2429790"
      },
      "outputs": [
        {
          "output_type": "execute_result",
          "data": {
            "text/plain": [
              "6000"
            ]
          },
          "metadata": {},
          "execution_count": 12
        }
      ],
      "source": [
        "len(df)"
      ]
    },
    {
      "cell_type": "code",
      "execution_count": null,
      "id": "e621b797",
      "metadata": {
        "colab": {
          "base_uri": "https://localhost:8080/",
          "height": 424
        },
        "id": "e621b797",
        "outputId": "fb9201d2-5f1e-41b2-df27-a753177603a4"
      },
      "outputs": [
        {
          "output_type": "execute_result",
          "data": {
            "text/plain": [
              "                                               sent_text  \\\n",
              "0      Even though Mr. Darcy is deeply offended by El...   \n",
              "1      Even though Mr. Darcy is deeply offended by El...   \n",
              "2      Even though Mr. Darcy is deeply offended by El...   \n",
              "15     Turnouts in Guardian elections were extremely ...   \n",
              "16     Turnouts in Guardian elections were extremely ...   \n",
              "...                                                  ...   \n",
              "41025  Very relevant to the changing social role of w...   \n",
              "41035  Sweetheart was standing in the kitchen with a ...   \n",
              "41037  He raised a satisfied bright-eyed smile toward...   \n",
              "41039  As Morgan walked back to the Mayfair alone he ...   \n",
              "41041  ` Not satisfied with stealing my money , you '...   \n",
              "\n",
              "                              argument        label  \n",
              "0                            Mr. Darcy  experiencer  \n",
              "1                               deeply       degree  \n",
              "2      that of her family 's behaviour        event  \n",
              "15                                 who        agent  \n",
              "16              influential ratepayers  experiencer  \n",
              "...                                ...          ...  \n",
              "41025               by their marriages     stimulus  \n",
              "41035                smile on her face    expressor  \n",
              "41037                bright-eyed smile    expressor  \n",
              "41039                               he  experiencer  \n",
              "41041           with stealing my money     stimulus  \n",
              "\n",
              "[6000 rows x 3 columns]"
            ],
            "text/html": [
              "\n",
              "  <div id=\"df-44d63648-4860-4963-a325-4c3ad63551f0\">\n",
              "    <div class=\"colab-df-container\">\n",
              "      <div>\n",
              "<style scoped>\n",
              "    .dataframe tbody tr th:only-of-type {\n",
              "        vertical-align: middle;\n",
              "    }\n",
              "\n",
              "    .dataframe tbody tr th {\n",
              "        vertical-align: top;\n",
              "    }\n",
              "\n",
              "    .dataframe thead th {\n",
              "        text-align: right;\n",
              "    }\n",
              "</style>\n",
              "<table border=\"1\" class=\"dataframe\">\n",
              "  <thead>\n",
              "    <tr style=\"text-align: right;\">\n",
              "      <th></th>\n",
              "      <th>sent_text</th>\n",
              "      <th>argument</th>\n",
              "      <th>label</th>\n",
              "    </tr>\n",
              "  </thead>\n",
              "  <tbody>\n",
              "    <tr>\n",
              "      <th>0</th>\n",
              "      <td>Even though Mr. Darcy is deeply offended by El...</td>\n",
              "      <td>Mr. Darcy</td>\n",
              "      <td>experiencer</td>\n",
              "    </tr>\n",
              "    <tr>\n",
              "      <th>1</th>\n",
              "      <td>Even though Mr. Darcy is deeply offended by El...</td>\n",
              "      <td>deeply</td>\n",
              "      <td>degree</td>\n",
              "    </tr>\n",
              "    <tr>\n",
              "      <th>2</th>\n",
              "      <td>Even though Mr. Darcy is deeply offended by El...</td>\n",
              "      <td>that of her family 's behaviour</td>\n",
              "      <td>event</td>\n",
              "    </tr>\n",
              "    <tr>\n",
              "      <th>15</th>\n",
              "      <td>Turnouts in Guardian elections were extremely ...</td>\n",
              "      <td>who</td>\n",
              "      <td>agent</td>\n",
              "    </tr>\n",
              "    <tr>\n",
              "      <th>16</th>\n",
              "      <td>Turnouts in Guardian elections were extremely ...</td>\n",
              "      <td>influential ratepayers</td>\n",
              "      <td>experiencer</td>\n",
              "    </tr>\n",
              "    <tr>\n",
              "      <th>...</th>\n",
              "      <td>...</td>\n",
              "      <td>...</td>\n",
              "      <td>...</td>\n",
              "    </tr>\n",
              "    <tr>\n",
              "      <th>41025</th>\n",
              "      <td>Very relevant to the changing social role of w...</td>\n",
              "      <td>by their marriages</td>\n",
              "      <td>stimulus</td>\n",
              "    </tr>\n",
              "    <tr>\n",
              "      <th>41035</th>\n",
              "      <td>Sweetheart was standing in the kitchen with a ...</td>\n",
              "      <td>smile on her face</td>\n",
              "      <td>expressor</td>\n",
              "    </tr>\n",
              "    <tr>\n",
              "      <th>41037</th>\n",
              "      <td>He raised a satisfied bright-eyed smile toward...</td>\n",
              "      <td>bright-eyed smile</td>\n",
              "      <td>expressor</td>\n",
              "    </tr>\n",
              "    <tr>\n",
              "      <th>41039</th>\n",
              "      <td>As Morgan walked back to the Mayfair alone he ...</td>\n",
              "      <td>he</td>\n",
              "      <td>experiencer</td>\n",
              "    </tr>\n",
              "    <tr>\n",
              "      <th>41041</th>\n",
              "      <td>` Not satisfied with stealing my money , you '...</td>\n",
              "      <td>with stealing my money</td>\n",
              "      <td>stimulus</td>\n",
              "    </tr>\n",
              "  </tbody>\n",
              "</table>\n",
              "<p>6000 rows × 3 columns</p>\n",
              "</div>\n",
              "      <button class=\"colab-df-convert\" onclick=\"convertToInteractive('df-44d63648-4860-4963-a325-4c3ad63551f0')\"\n",
              "              title=\"Convert this dataframe to an interactive table.\"\n",
              "              style=\"display:none;\">\n",
              "        \n",
              "  <svg xmlns=\"http://www.w3.org/2000/svg\" height=\"24px\"viewBox=\"0 0 24 24\"\n",
              "       width=\"24px\">\n",
              "    <path d=\"M0 0h24v24H0V0z\" fill=\"none\"/>\n",
              "    <path d=\"M18.56 5.44l.94 2.06.94-2.06 2.06-.94-2.06-.94-.94-2.06-.94 2.06-2.06.94zm-11 1L8.5 8.5l.94-2.06 2.06-.94-2.06-.94L8.5 2.5l-.94 2.06-2.06.94zm10 10l.94 2.06.94-2.06 2.06-.94-2.06-.94-.94-2.06-.94 2.06-2.06.94z\"/><path d=\"M17.41 7.96l-1.37-1.37c-.4-.4-.92-.59-1.43-.59-.52 0-1.04.2-1.43.59L10.3 9.45l-7.72 7.72c-.78.78-.78 2.05 0 2.83L4 21.41c.39.39.9.59 1.41.59.51 0 1.02-.2 1.41-.59l7.78-7.78 2.81-2.81c.8-.78.8-2.07 0-2.86zM5.41 20L4 18.59l7.72-7.72 1.47 1.35L5.41 20z\"/>\n",
              "  </svg>\n",
              "      </button>\n",
              "      \n",
              "  <style>\n",
              "    .colab-df-container {\n",
              "      display:flex;\n",
              "      flex-wrap:wrap;\n",
              "      gap: 12px;\n",
              "    }\n",
              "\n",
              "    .colab-df-convert {\n",
              "      background-color: #E8F0FE;\n",
              "      border: none;\n",
              "      border-radius: 50%;\n",
              "      cursor: pointer;\n",
              "      display: none;\n",
              "      fill: #1967D2;\n",
              "      height: 32px;\n",
              "      padding: 0 0 0 0;\n",
              "      width: 32px;\n",
              "    }\n",
              "\n",
              "    .colab-df-convert:hover {\n",
              "      background-color: #E2EBFA;\n",
              "      box-shadow: 0px 1px 2px rgba(60, 64, 67, 0.3), 0px 1px 3px 1px rgba(60, 64, 67, 0.15);\n",
              "      fill: #174EA6;\n",
              "    }\n",
              "\n",
              "    [theme=dark] .colab-df-convert {\n",
              "      background-color: #3B4455;\n",
              "      fill: #D2E3FC;\n",
              "    }\n",
              "\n",
              "    [theme=dark] .colab-df-convert:hover {\n",
              "      background-color: #434B5C;\n",
              "      box-shadow: 0px 1px 3px 1px rgba(0, 0, 0, 0.15);\n",
              "      filter: drop-shadow(0px 1px 2px rgba(0, 0, 0, 0.3));\n",
              "      fill: #FFFFFF;\n",
              "    }\n",
              "  </style>\n",
              "\n",
              "      <script>\n",
              "        const buttonEl =\n",
              "          document.querySelector('#df-44d63648-4860-4963-a325-4c3ad63551f0 button.colab-df-convert');\n",
              "        buttonEl.style.display =\n",
              "          google.colab.kernel.accessAllowed ? 'block' : 'none';\n",
              "\n",
              "        async function convertToInteractive(key) {\n",
              "          const element = document.querySelector('#df-44d63648-4860-4963-a325-4c3ad63551f0');\n",
              "          const dataTable =\n",
              "            await google.colab.kernel.invokeFunction('convertToInteractive',\n",
              "                                                     [key], {});\n",
              "          if (!dataTable) return;\n",
              "\n",
              "          const docLinkHtml = 'Like what you see? Visit the ' +\n",
              "            '<a target=\"_blank\" href=https://colab.research.google.com/notebooks/data_table.ipynb>data table notebook</a>'\n",
              "            + ' to learn more about interactive tables.';\n",
              "          element.innerHTML = '';\n",
              "          dataTable['output_type'] = 'display_data';\n",
              "          await google.colab.output.renderOutput(dataTable, element);\n",
              "          const docLink = document.createElement('div');\n",
              "          docLink.innerHTML = docLinkHtml;\n",
              "          element.appendChild(docLink);\n",
              "        }\n",
              "      </script>\n",
              "    </div>\n",
              "  </div>\n",
              "  "
            ]
          },
          "metadata": {},
          "execution_count": 13
        }
      ],
      "source": [
        "df"
      ]
    },
    {
      "cell_type": "code",
      "source": [
        "df['argument'].value_counts()"
      ],
      "metadata": {
        "id": "_cv5r_iF5cIW",
        "outputId": "b938892f-1bbd-41cb-adae-2ef3dde9762b",
        "colab": {
          "base_uri": "https://localhost:8080/"
        }
      },
      "id": "_cv5r_iF5cIW",
      "execution_count": null,
      "outputs": [
        {
          "output_type": "execute_result",
          "data": {
            "text/plain": [
              "I                                          328\n",
              "he                                         143\n",
              "she                                        132\n",
              "He                                         126\n",
              "She                                        109\n",
              "                                          ... \n",
              "at being left out                            1\n",
              "at being separated from their offspring      1\n",
              "as he rewrote and rewrote again              1\n",
              "about the way things were going              1\n",
              "with stealing my money                       1\n",
              "Name: argument, Length: 3517, dtype: int64"
            ]
          },
          "metadata": {},
          "execution_count": 14
        }
      ]
    },
    {
      "cell_type": "code",
      "execution_count": null,
      "id": "1017df58",
      "metadata": {
        "id": "1017df58"
      },
      "outputs": [],
      "source": [
        "df.to_csv('framenet_dataset.csv', encoding='utf-8', index=False)"
      ]
    },
    {
      "cell_type": "code",
      "execution_count": null,
      "id": "3349b278",
      "metadata": {
        "id": "3349b278"
      },
      "outputs": [],
      "source": []
    }
  ],
  "metadata": {
    "kernelspec": {
      "display_name": "Python 3 (ipykernel)",
      "language": "python",
      "name": "python3"
    },
    "language_info": {
      "codemirror_mode": {
        "name": "ipython",
        "version": 3
      },
      "file_extension": ".py",
      "mimetype": "text/x-python",
      "name": "python",
      "nbconvert_exporter": "python",
      "pygments_lexer": "ipython3",
      "version": "3.9.12"
    },
    "colab": {
      "provenance": []
    }
  },
  "nbformat": 4,
  "nbformat_minor": 5
}